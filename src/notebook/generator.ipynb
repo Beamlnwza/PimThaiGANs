{
 "cells": [
  {
   "cell_type": "code",
   "execution_count": 11,
   "metadata": {
    "collapsed": true,
    "ExecuteTime": {
     "end_time": "2023-05-11T04:24:32.891805700Z",
     "start_time": "2023-05-11T04:24:32.431801200Z"
    }
   },
   "outputs": [
    {
     "name": "stdout",
     "output_type": "stream",
     "text": [
      "The autoreload extension is already loaded. To reload it, use:\n",
      "  %reload_ext autoreload\n"
     ]
    }
   ],
   "source": [
    "import os\n",
    "\n",
    "from src.Image.ImageGenerator import ImageGenerator\n",
    "from src.Helper.Font_Loader import font_loader\n",
    "from pythainlp import thai_characters\n",
    "import numpy as np\n",
    "from tqdm.notebook import tqdm\n",
    "\n",
    "%load_ext autoreload\n",
    "%autoreload 2"
   ]
  },
  {
   "cell_type": "code",
   "execution_count": 2,
   "outputs": [
    {
     "name": "stdout",
     "output_type": "stream",
     "text": [
      "กขฃคฅฆงจฉชซฌญฎฏฐฑฒณดตถทธนบปผฝพฟภมยรลวศษสหฬอฮฤฦะัาำิีึืุูเแโใไๅํ็่้๊๋ฯฺๆ์ํ๎๏๚๛๐๑๒๓๔๕๖๗๘๙฿\n"
     ]
    }
   ],
   "source": [
    "print(thai_characters)"
   ],
   "metadata": {
    "collapsed": false,
    "ExecuteTime": {
     "end_time": "2023-05-11T04:22:45.349989400Z",
     "start_time": "2023-05-11T04:22:45.240989700Z"
    }
   }
  },
  {
   "cell_type": "code",
   "execution_count": 3,
   "outputs": [],
   "source": [
    "used_font = []\n",
    "for font_path in os.listdir('../Font/'):\n",
    "    font_folder_path = os.path.join('../Font/', font_path)\n",
    "    used_font.append(font_loader(font_folder_path))"
   ],
   "metadata": {
    "collapsed": false,
    "ExecuteTime": {
     "end_time": "2023-05-11T04:22:45.540990500Z",
     "start_time": "2023-05-11T04:22:45.351990Z"
    }
   }
  },
  {
   "cell_type": "code",
   "execution_count": 4,
   "outputs": [],
   "source": [
    "import itertools\n",
    "used_font = list(itertools.chain(*used_font))"
   ],
   "metadata": {
    "collapsed": false,
    "ExecuteTime": {
     "end_time": "2023-05-11T04:22:45.699000700Z",
     "start_time": "2023-05-11T04:22:45.545995500Z"
    }
   }
  },
  {
   "cell_type": "code",
   "execution_count": 24,
   "outputs": [
    {
     "name": "stdout",
     "output_type": "stream",
     "text": [
      "['../Font/14ThaiFonts\\\\TH KoHo Bold.ttf', '../Font/14ThaiFonts\\\\TH Niramit AS Bold Italic.ttf', '../Font/14ThaiFonts\\\\TH Niramit AS.ttf', '../Font/14ThaiFonts\\\\TH SarabunITù Italic.ttf', '../Font/14ThaiFonts\\\\TH NiramitITù Bold.ttf', '../Font/14ThaiFonts\\\\TH Kodchasal Italic.ttf', '../Font/14ThaiFonts\\\\TH Fahkwang Bold Italic.ttf', '../Font/14ThaiFonts\\\\TH Niramit AS Bold.ttf', '../Font/14ThaiFonts\\\\TH Charmonman Bold.ttf', '../Font/14ThaiFonts\\\\TH KoHo.ttf', '../Font/14ThaiFonts\\\\TH Chakra Petch Bold.ttf', '../Font/14ThaiFonts\\\\TH Sarabun Bold Italic.ttf', '../Font/14ThaiFonts\\\\TH SarabunNew Bold.ttf', '../Font/14ThaiFonts\\\\TH NiramitITù.ttf', '../Font/14ThaiFonts\\\\TH Kodchasal Bold Italic.ttf', '../Font/14ThaiFonts\\\\TH K2D July8.ttf', '../Font/14ThaiFonts\\\\TH Mali Grade6 Bold Italic.ttf', '../Font/14ThaiFonts\\\\TH Sarabun Bold.ttf', '../Font/14ThaiFonts\\\\TH Chakra Petch Italic.ttf', '../Font/14ThaiFonts\\\\TH SarabunITù Bold.ttf', '../Font/14ThaiFonts\\\\TH Sarabun.ttf', '../Font/14ThaiFonts\\\\TH Fahkwang.ttf', '../Font/14ThaiFonts\\\\TH Baijam Italic.ttf', '../Font/14ThaiFonts\\\\TH SarabunNew BoldItalic.ttf', '../Font/14ThaiFonts\\\\TH Baijam Bold Italic.ttf', '../Font/14ThaiFonts\\\\TH NiramitITù Italic.ttf', '../Font/14ThaiFonts\\\\TH SarabunITù.ttf', '../Font/14ThaiFonts\\\\TH Kodchasal Bold.ttf', '../Font/14ThaiFonts\\\\TH Mali Grade6 Bold.ttf', '../Font/14ThaiFonts\\\\THSarabunNew.ttf', '../Font/14ThaiFonts\\\\TH Baijam.ttf', '../Font/14ThaiFonts\\\\TH K2D July8 Italic.ttf', '../Font/14ThaiFonts\\\\TH Chakra Petch Bold Italic.ttf', '../Font/14ThaiFonts\\\\TH Krub Bold.ttf', '../Font/14ThaiFonts\\\\TH Krub Italic.ttf', '../Font/14ThaiFonts\\\\TH Krub Bold Italic.ttf', '../Font/14ThaiFonts\\\\TH SarabunITù BoldItalic.ttf', '../Font/14ThaiFonts\\\\TH SarabunNew Italic.ttf', '../Font/14ThaiFonts\\\\TH Krub.ttf', '../Font/14ThaiFonts\\\\TH Srisakdi.ttf', '../Font/14ThaiFonts\\\\TH KoHo Bold Italic.ttf', '../Font/14ThaiFonts\\\\TH K2D July8 Bold.ttf', '../Font/14ThaiFonts\\\\TH Charm of AU.ttf', '../Font/14ThaiFonts\\\\TH Mali Grade6 Italic.ttf', '../Font/14ThaiFonts\\\\TH Baijam Bold.ttf', '../Font/14ThaiFonts\\\\TH Srisakdi Bold.ttf', '../Font/14ThaiFonts\\\\TH Fahkwang Bold.ttf', '../Font/14ThaiFonts\\\\TH Sarabun Italic.ttf', '../Font/14ThaiFonts\\\\TH Niramit AS Italic.ttf', '../Font/14ThaiFonts\\\\TH Niramit AS-ITù Bold Italic.ttf', '../Font/14ThaiFonts\\\\TH Charmonman.ttf', '../Font/14ThaiFonts\\\\TH Chakra Petch.ttf', '../Font/14ThaiFonts\\\\TH Kodchasal.ttf', '../Font/14ThaiFonts\\\\TH Mali Grade6.ttf', '../Font/14ThaiFonts\\\\TH KoHo Italic.ttf', '../Font/14ThaiFonts\\\\TH Fahkwang Italic.ttf', '../Font/14ThaiFonts\\\\TH K2D July8 Bold Italic.ttf', '../Font/col1\\\\maaja ver 1.00.ttf', '../Font/col1\\\\Surafont Sanukchang Italic.ttf', '../Font/col1\\\\SOV_kwai.ttf', '../Font/col1\\\\Surafont Sanukchang Regular.ttf', '../Font/col1\\\\EkkamaiNew-Regular.ttf', '../Font/col1\\\\EkkamaiStandard-Light.ttf', '../Font/col1\\\\EkkamaiNew-Bold.ttf', '../Font/col1\\\\UID SALMON 2019 .ttf', '../Font/col1\\\\EkkamaiNew-Thin.ttf', '../Font/FC-Col-1\\\\FC Ekaluck Light Italic ver 1.01.ttf', '../Font/FC-Col-1\\\\FC Iconic Regular.ttf', '../Font/FC-Col-1\\\\FC Candy Color Italic.ttf', '../Font/FC-Col-1\\\\FC Ekaluck Italic ver 1.01.ttf', '../Font/FC-Col-1\\\\FC Lamoon Light Italic ver 1.00.ttf', '../Font/FC-Col-1\\\\FC Magic Italic.ttf', '../Font/FC-Col-1\\\\FC Candy Color.ttf', '../Font/FC-Col-1\\\\FC Motorway Semi-condensed Bold.ttf', '../Font/FC-Col-1\\\\FC Motorway Bold Italic.ttf', '../Font/FC-Col-1\\\\FC Ekaluck Regular ver 1.01.ttf', '../Font/FC-Col-1\\\\FC Iconic Bold Italic.ttf', '../Font/FC-Col-1\\\\FC Iconic Italic.ttf', '../Font/FC-Col-1\\\\FC Lamoon Regular ver 1.00.ttf', '../Font/FC-Col-1\\\\FC Ekaluck Light ver 1.01.ttf', '../Font/FC-Col-1\\\\FC Motorway Italic.ttf', '../Font/FC-Col-1\\\\FC Candy.ttf', '../Font/FC-Col-1\\\\FC Lamoon Light ver 1.00.ttf', '../Font/FC-Col-1\\\\FC Muffin Regular.ttf', '../Font/FC-Col-1\\\\FC Active Light Italic.ttf', '../Font/FC-Col-1\\\\FC Lamoon Bold ver 1.00.ttf', '../Font/FC-Col-1\\\\FC Ekaluck Bold ver 1.01.ttf', '../Font/FC-Col-1\\\\FC Iconic Text Italic ver 1.00.ttf', '../Font/FC-Col-1\\\\FC Iconic Text Regular ver 1.00.ttf', '../Font/FC-Col-1\\\\FC Motorway Semi-condensed Italic.ttf', '../Font/FC-Col-1\\\\FC Ekaluck Bold Italic ver 1.01.ttf', '../Font/FC-Col-1\\\\FC Fast Bold ver 1.01.ttf', '../Font/FC-Col-1\\\\FC Motorway Semi-condensed Bold Italic.ttf', '../Font/FC-Col-1\\\\FC Active Light.ttf', '../Font/FC-Col-1\\\\FC Hype [Non-commercial use] Light ver 1.01.ttf', '../Font/FC-Col-1\\\\FC Muffin Italic.ttf', '../Font/FC-Col-1\\\\FC Active Regular.ttf', '../Font/FC-Col-1\\\\FC Lamoon Bold Italic ver 1.00.ttf', '../Font/FC-Col-1\\\\FC Iconic Bold.ttf', '../Font/FC-Col-1\\\\FC Active Italic.ttf', '../Font/FC-Col-1\\\\FC Candy Italic.ttf', '../Font/FC-Col-1\\\\FC Faster Bold ver 1.01.ttf', '../Font/FC-Col-1\\\\FC Hype [Non-commercial use] Bold ver 1.01.ttf', '../Font/FC-Col-1\\\\FC Motorway Regular.ttf', '../Font/FC-Col-1\\\\FC Lamoon Regular Italic ver 1.00.ttf', '../Font/FC-Col-1\\\\FC Motorway Bold.ttf', '../Font/FC-Col-1\\\\FC Motorway Semi-condensed Regular.ttf', '../Font/FC-Col-2\\\\FC SaveSpace Regular ver 1.01.ttf', '../Font/FC-Col-2\\\\FC Friday Medium Italic.ttf', '../Font/FC-Col-2\\\\FC Friday Medium.ttf', '../Font/FC-Col-2\\\\FC SaveSpace Italic ver 1.01.ttf', '../Font/google_fonts\\\\NotoSerifThai_SemiCondensed-Thin.ttf', '../Font/google_fonts\\\\Sarabun-SemiBold.ttf', '../Font/google_fonts\\\\Fahkwang-LightItalic.ttf', '../Font/google_fonts\\\\NotoSansThaiLooped-ExtraBold.ttf', '../Font/google_fonts\\\\Mali-LightItalic.ttf', '../Font/google_fonts\\\\Sarabun-Medium.ttf', '../Font/google_fonts\\\\Krub-Regular.ttf', '../Font/google_fonts\\\\Charm-Bold.ttf', '../Font/google_fonts\\\\NotoSansThai-Bold.ttf', '../Font/google_fonts\\\\Fahkwang-SemiBold.ttf', '../Font/google_fonts\\\\Sarabun-MediumItalic.ttf', '../Font/google_fonts\\\\Kodchasan-Medium.ttf', '../Font/google_fonts\\\\Prompt-BlackItalic.ttf', '../Font/google_fonts\\\\Fahkwang-Bold.ttf', '../Font/google_fonts\\\\NotoSansThai_SemiCondensed-Regular.ttf', '../Font/google_fonts\\\\Charmonman-Bold.ttf', '../Font/google_fonts\\\\Athiti-Bold.ttf', '../Font/google_fonts\\\\Mitr-ExtraLight.ttf', '../Font/google_fonts\\\\Prompt-Bold.ttf', '../Font/google_fonts\\\\Taviraj-MediumItalic.ttf', '../Font/google_fonts\\\\NotoSerifThai_Condensed-ExtraLight.ttf', '../Font/google_fonts\\\\Prompt-Medium.ttf', '../Font/google_fonts\\\\Prompt-SemiBoldItalic.ttf', '../Font/google_fonts\\\\Niramit-Regular.ttf', '../Font/google_fonts\\\\Thasadith-Italic.ttf', '../Font/google_fonts\\\\NotoSerifThai-VariableFont_wdth,wght.ttf', '../Font/google_fonts\\\\Taviraj-Italic.ttf', '../Font/google_fonts\\\\Prompt-ExtraLightItalic.ttf', '../Font/google_fonts\\\\Kanit-BoldItalic.ttf', '../Font/google_fonts\\\\BaiJamjuree-SemiBold.ttf', '../Font/google_fonts\\\\Krub-Bold.ttf', '../Font/google_fonts\\\\NotoSerifThai-Regular.ttf', '../Font/google_fonts\\\\Kodchasan-SemiBoldItalic.ttf', '../Font/google_fonts\\\\NotoSerifThai_SemiCondensed-SemiBold.ttf', '../Font/google_fonts\\\\NotoSansThai-ExtraLight.ttf', '../Font/google_fonts\\\\Trirong-Regular.ttf', '../Font/google_fonts\\\\Trirong-ExtraBoldItalic.ttf', '../Font/google_fonts\\\\Athiti-Medium.ttf', '../Font/google_fonts\\\\NotoSansThai-VariableFont_wdth,wght.ttf', '../Font/google_fonts\\\\NotoSansThai-Light.ttf', '../Font/google_fonts\\\\K2D-Regular.ttf', '../Font/google_fonts\\\\K2D-Medium.ttf', '../Font/google_fonts\\\\Mitr-Medium.ttf', '../Font/google_fonts\\\\Krub-SemiBoldItalic.ttf', '../Font/google_fonts\\\\Sarabun-ExtraBoldItalic.ttf', '../Font/google_fonts\\\\Krub-Medium.ttf', '../Font/google_fonts\\\\NotoSansThai_SemiCondensed-Light.ttf', '../Font/google_fonts\\\\K2D-SemiBoldItalic.ttf', '../Font/google_fonts\\\\Trirong-Medium.ttf', '../Font/google_fonts\\\\Kanit-ThinItalic.ttf', '../Font/google_fonts\\\\NotoSerifThai-Thin.ttf', '../Font/google_fonts\\\\Thasadith-Regular.ttf', '../Font/google_fonts\\\\Kanit-LightItalic.ttf', '../Font/google_fonts\\\\Maitree-ExtraLight.ttf', '../Font/google_fonts\\\\Kanit-ExtraLight.ttf', '../Font/google_fonts\\\\Niramit-MediumItalic.ttf', '../Font/google_fonts\\\\Sarabun-ExtraBold.ttf', '../Font/google_fonts\\\\Taviraj-ExtraBoldItalic.ttf', '../Font/google_fonts\\\\Sarabun-Italic.ttf', '../Font/google_fonts\\\\Niramit-Italic.ttf', '../Font/google_fonts\\\\Taviraj-LightItalic.ttf', '../Font/google_fonts\\\\NotoSansThai-Black.ttf', '../Font/google_fonts\\\\Pridi-Light.ttf', '../Font/google_fonts\\\\Sarabun-ExtraLightItalic.ttf', '../Font/google_fonts\\\\Niramit-Bold.ttf', '../Font/google_fonts\\\\Kanit-Light.ttf', '../Font/google_fonts\\\\NotoSansThai_ExtraCondensed-Thin.ttf', '../Font/google_fonts\\\\Kanit-ExtraLightItalic.ttf', '../Font/google_fonts\\\\Pattaya-Regular.ttf', '../Font/google_fonts\\\\NotoSansThai_SemiCondensed-Black.ttf', '../Font/google_fonts\\\\NotoSansThaiLooped-Black.ttf', '../Font/google_fonts\\\\Prompt-MediumItalic.ttf', '../Font/google_fonts\\\\Niramit-SemiBoldItalic.ttf', '../Font/google_fonts\\\\KoHo-SemiBoldItalic.ttf', '../Font/google_fonts\\\\Niramit-Light.ttf', '../Font/google_fonts\\\\K2D-ExtraBoldItalic.ttf', '../Font/google_fonts\\\\NotoSansThai_SemiCondensed-Bold.ttf', '../Font/google_fonts\\\\IBMPlexSansThai-Medium.ttf', '../Font/google_fonts\\\\Mali-ExtraLightItalic.ttf', '../Font/google_fonts\\\\KoHo-Regular.ttf', '../Font/google_fonts\\\\Maitree-Medium.ttf', '../Font/google_fonts\\\\Taviraj-ExtraBold.ttf', '../Font/google_fonts\\\\Niramit-LightItalic.ttf', '../Font/google_fonts\\\\Krub-SemiBold.ttf', '../Font/google_fonts\\\\Kanit-Bold.ttf', '../Font/google_fonts\\\\NotoSerifThai-Light.ttf', '../Font/google_fonts\\\\NotoSansThaiLooped-Medium.ttf', '../Font/google_fonts\\\\NotoSansThai_Condensed-Thin.ttf', '../Font/google_fonts\\\\KoHo-ExtraLightItalic.ttf', '../Font/google_fonts\\\\NotoSansThai_ExtraCondensed-Light.ttf', '../Font/google_fonts\\\\NotoSerifThai_ExtraCondensed-Bold.ttf', '../Font/google_fonts\\\\NotoSerifThai-Medium.ttf', '../Font/google_fonts\\\\BaiJamjuree-Medium.ttf', '../Font/google_fonts\\\\Taviraj-Medium.ttf', '../Font/google_fonts\\\\Kodchasan-Light.ttf', '../Font/google_fonts\\\\Mali-Bold.ttf', '../Font/google_fonts\\\\Krub-MediumItalic.ttf', '../Font/google_fonts\\\\Krub-ExtraLightItalic.ttf', '../Font/google_fonts\\\\IBMPlexSansThaiLooped-Regular.ttf', '../Font/google_fonts\\\\Athiti-ExtraLight.ttf', '../Font/google_fonts\\\\Taviraj-Regular.ttf', '../Font/google_fonts\\\\Trirong-LightItalic.ttf', '../Font/google_fonts\\\\NotoSerifThai-ExtraBold.ttf', '../Font/google_fonts\\\\Sarabun-BoldItalic.ttf', '../Font/google_fonts\\\\Pridi-SemiBold.ttf', '../Font/google_fonts\\\\BaiJamjuree-Italic.ttf', '../Font/google_fonts\\\\Itim-Regular.ttf', '../Font/google_fonts\\\\Sarabun-ExtraLight.ttf', '../Font/google_fonts\\\\Srisakdi-Regular.ttf', '../Font/google_fonts\\\\Kodchasan-Italic.ttf', '../Font/google_fonts\\\\Fahkwang-Light.ttf', '../Font/google_fonts\\\\Kanit-SemiBoldItalic.ttf', '../Font/google_fonts\\\\Mali-BoldItalic.ttf', '../Font/google_fonts\\\\Srisakdi-Bold.ttf', '../Font/google_fonts\\\\Pridi-Medium.ttf', '../Font/google_fonts\\\\NotoSansThai-Regular.ttf', '../Font/google_fonts\\\\NotoSerifThai-Bold.ttf', '../Font/google_fonts\\\\NotoSansThai-SemiBold.ttf', '../Font/google_fonts\\\\Fahkwang-ExtraLight.ttf', '../Font/google_fonts\\\\Prompt-BoldItalic.ttf', '../Font/google_fonts\\\\Anuphan-Medium.ttf', '../Font/google_fonts\\\\Anuphan-Thin.ttf', '../Font/google_fonts\\\\Taviraj-Bold.ttf', '../Font/google_fonts\\\\Prompt-ExtraBold.ttf', '../Font/google_fonts\\\\Charmonman-Regular.ttf', '../Font/google_fonts\\\\Prompt-Black.ttf', '../Font/google_fonts\\\\NotoSansThai_Condensed-Medium.ttf', '../Font/google_fonts\\\\Fahkwang-Medium.ttf', '../Font/google_fonts\\\\IBMPlexSansThaiLooped-Thin.ttf', '../Font/google_fonts\\\\Taviraj-ExtraLight.ttf', '../Font/google_fonts\\\\Kanit-MediumItalic.ttf', '../Font/google_fonts\\\\Sriracha-Regular.ttf', '../Font/google_fonts\\\\Krub-LightItalic.ttf', '../Font/google_fonts\\\\NotoSerifThai_SemiCondensed-Black.ttf', '../Font/google_fonts\\\\IBMPlexSansThaiLooped-SemiBold.ttf', '../Font/google_fonts\\\\KoHo-SemiBold.ttf', '../Font/google_fonts\\\\Taviraj-SemiBoldItalic.ttf', '../Font/google_fonts\\\\NotoSerifThai_ExtraCondensed-Light.ttf', '../Font/google_fonts\\\\NotoSerifThai_Condensed-SemiBold.ttf', '../Font/google_fonts\\\\Niramit-Medium.ttf', '../Font/google_fonts\\\\NotoSerifThai_Condensed-Medium.ttf', '../Font/google_fonts\\\\Trirong-BoldItalic.ttf', '../Font/google_fonts\\\\Anuphan-Bold.ttf', '../Font/google_fonts\\\\K2D-Thin.ttf', '../Font/google_fonts\\\\KoHo-BoldItalic.ttf', '../Font/google_fonts\\\\K2D-Bold.ttf', '../Font/google_fonts\\\\Mitr-Regular.ttf', '../Font/google_fonts\\\\Anuphan-VariableFont_wght.ttf', '../Font/google_fonts\\\\NotoSansThai_SemiCondensed-ExtraLight.ttf', '../Font/google_fonts\\\\Kodchasan-SemiBold.ttf', '../Font/google_fonts\\\\Fahkwang-SemiBoldItalic.ttf', '../Font/google_fonts\\\\Maitree-SemiBold.ttf', '../Font/google_fonts\\\\Anuphan-SemiBold.ttf', '../Font/google_fonts\\\\Trirong-ExtraBold.ttf', '../Font/google_fonts\\\\Taviraj-ExtraLightItalic.ttf', '../Font/google_fonts\\\\Mali-Italic.ttf', '../Font/google_fonts\\\\NotoSerifThai_Condensed-Thin.ttf', '../Font/google_fonts\\\\NotoSansThaiLooped-Bold.ttf', '../Font/google_fonts\\\\K2D-SemiBold.ttf', '../Font/google_fonts\\\\IBMPlexSansThaiLooped-Light.ttf', '../Font/google_fonts\\\\Taviraj-BoldItalic.ttf', '../Font/google_fonts\\\\NotoSerifThai_SemiCondensed-Bold.ttf', '../Font/google_fonts\\\\Maitree-Light.ttf', '../Font/google_fonts\\\\Kanit-Regular.ttf', '../Font/google_fonts\\\\IBMPlexSansThaiLooped-ExtraLight.ttf', '../Font/google_fonts\\\\NotoSansThai-Medium.ttf', '../Font/google_fonts\\\\Mitr-SemiBold.ttf', '../Font/google_fonts\\\\Trirong-SemiBoldItalic.ttf', '../Font/google_fonts\\\\NotoSansThai_ExtraCondensed-ExtraBold.ttf', '../Font/google_fonts\\\\Sarabun-Regular.ttf', '../Font/google_fonts\\\\K2D-BoldItalic.ttf', '../Font/google_fonts\\\\Sarabun-Thin.ttf', '../Font/google_fonts\\\\Trirong-SemiBold.ttf', '../Font/google_fonts\\\\KoHo-ExtraLight.ttf', '../Font/google_fonts\\\\Pridi-Regular.ttf', '../Font/google_fonts\\\\Anuphan-ExtraLight.ttf', '../Font/google_fonts\\\\Charm-Regular.ttf', '../Font/google_fonts\\\\NotoSansThai_ExtraCondensed-ExtraLight.ttf', '../Font/google_fonts\\\\Trirong-Light.ttf', '../Font/google_fonts\\\\Krub-BoldItalic.ttf', '../Font/google_fonts\\\\Trirong-Bold.ttf', '../Font/google_fonts\\\\NotoSerifThai_Condensed-Black.ttf', '../Font/google_fonts\\\\Taviraj-SemiBold.ttf', '../Font/google_fonts\\\\Fahkwang-Regular.ttf', '../Font/google_fonts\\\\IBMPlexSansThai-Thin.ttf', '../Font/google_fonts\\\\NotoSerifThai_ExtraCondensed-Thin.ttf', '../Font/google_fonts\\\\K2D-ThinItalic.ttf', '../Font/google_fonts\\\\Mali-Regular.ttf', '../Font/google_fonts\\\\Taviraj-Thin.ttf', '../Font/google_fonts\\\\Maitree-Regular.ttf', '../Font/google_fonts\\\\Taviraj-ThinItalic.ttf', '../Font/google_fonts\\\\Prompt-Italic.ttf', '../Font/google_fonts\\\\KoHo-LightItalic.ttf', '../Font/google_fonts\\\\Prompt-Regular.ttf', '../Font/google_fonts\\\\KoHo-MediumItalic.ttf', '../Font/google_fonts\\\\Kanit-SemiBold.ttf', '../Font/google_fonts\\\\Anuphan-Light.ttf', '../Font/google_fonts\\\\NotoSansThai_Condensed-ExtraLight.ttf', '../Font/google_fonts\\\\NotoSansThai_Condensed-Regular.ttf', '../Font/google_fonts\\\\Mali-SemiBold.ttf', '../Font/google_fonts\\\\IBMPlexSansThai-Light.ttf', '../Font/google_fonts\\\\BaiJamjuree-Regular.ttf', '../Font/google_fonts\\\\BaiJamjuree-LightItalic.ttf', '../Font/google_fonts\\\\NotoSansThaiLooped-Regular.ttf', '../Font/google_fonts\\\\NotoSansThai_SemiCondensed-Medium.ttf', '../Font/google_fonts\\\\Trirong-BlackItalic.ttf', '../Font/google_fonts\\\\IBMPlexSansThai-Regular.ttf', '../Font/google_fonts\\\\Fahkwang-ExtraLightItalic.ttf', '../Font/google_fonts\\\\Trirong-Thin.ttf', '../Font/google_fonts\\\\Kodchasan-ExtraLightItalic.ttf', '../Font/google_fonts\\\\Kanit-ExtraBold.ttf', '../Font/google_fonts\\\\Prompt-Light.ttf', '../Font/google_fonts\\\\NotoSerifThai_SemiCondensed-Medium.ttf', '../Font/google_fonts\\\\Trirong-Black.ttf', '../Font/google_fonts\\\\Niramit-ExtraLightItalic.ttf', '../Font/google_fonts\\\\Krub-Light.ttf', '../Font/google_fonts\\\\NotoSansThaiLooped-SemiBold.ttf', '../Font/google_fonts\\\\Chonburi-Regular.ttf', '../Font/google_fonts\\\\Prompt-SemiBold.ttf', '../Font/google_fonts\\\\NotoSerifThai_Condensed-Light.ttf', '../Font/google_fonts\\\\Thasadith-Bold.ttf', '../Font/google_fonts\\\\Kodchasan-ExtraLight.ttf', '../Font/google_fonts\\\\K2D-LightItalic.ttf', '../Font/google_fonts\\\\Taviraj-Black.ttf', '../Font/google_fonts\\\\NotoSansThai_SemiCondensed-ExtraBold.ttf', '../Font/google_fonts\\\\NotoSansThai_Condensed-ExtraBold.ttf', '../Font/google_fonts\\\\IBMPlexSansThai-Bold.ttf', '../Font/google_fonts\\\\Pridi-Bold.ttf', '../Font/google_fonts\\\\NotoSerifThai_ExtraCondensed-ExtraLight.ttf', '../Font/google_fonts\\\\Anuphan-Regular.ttf', '../Font/google_fonts\\\\NotoSerifThai_Condensed-Regular.ttf', '../Font/google_fonts\\\\Pridi-ExtraLight.ttf', '../Font/google_fonts\\\\Mali-Light.ttf', '../Font/google_fonts\\\\NotoSansThaiLooped-ExtraLight.ttf', '../Font/google_fonts\\\\NotoSansThai_Condensed-Light.ttf', '../Font/google_fonts\\\\Sarabun-SemiBoldItalic.ttf', '../Font/google_fonts\\\\Athiti-Regular.ttf', '../Font/google_fonts\\\\IBMPlexSansThai-SemiBold.ttf', '../Font/google_fonts\\\\K2D-Light.ttf', '../Font/google_fonts\\\\NotoSerifThai-SemiBold.ttf', '../Font/google_fonts\\\\BaiJamjuree-ExtraLight.ttf', '../Font/google_fonts\\\\Kodchasan-LightItalic.ttf', '../Font/google_fonts\\\\NotoSansThaiLooped-Thin.ttf', '../Font/google_fonts\\\\Athiti-SemiBold.ttf', '../Font/google_fonts\\\\K2D-ExtraLightItalic.ttf', '../Font/google_fonts\\\\Sarabun-LightItalic.ttf', '../Font/google_fonts\\\\NotoSansThaiLooped-Light.ttf', '../Font/google_fonts\\\\NotoSansThai_ExtraCondensed-Bold.ttf', '../Font/google_fonts\\\\Thasadith-BoldItalic.ttf', '../Font/google_fonts\\\\K2D-ExtraLight.ttf', '../Font/google_fonts\\\\NotoSansThai_Condensed-SemiBold.ttf', '../Font/google_fonts\\\\Trirong-Italic.ttf', '../Font/google_fonts\\\\BaiJamjuree-Bold.ttf', '../Font/google_fonts\\\\Fahkwang-MediumItalic.ttf', '../Font/google_fonts\\\\NotoSansThai_ExtraCondensed-Regular.ttf', '../Font/google_fonts\\\\Kodchasan-BoldItalic.ttf', '../Font/google_fonts\\\\NotoSerifThai_SemiCondensed-ExtraBold.ttf', '../Font/google_fonts\\\\KoHo-Medium.ttf', '../Font/google_fonts\\\\Prompt-LightItalic.ttf', '../Font/google_fonts\\\\Sarabun-ThinItalic.ttf', '../Font/google_fonts\\\\IBMPlexSansThai-ExtraLight.ttf', '../Font/google_fonts\\\\Kanit-Medium.ttf', '../Font/google_fonts\\\\NotoSansThai_ExtraCondensed-Medium.ttf', '../Font/google_fonts\\\\Athiti-Light.ttf', '../Font/google_fonts\\\\IBMPlexSansThaiLooped-Medium.ttf', '../Font/google_fonts\\\\Prompt-ThinItalic.ttf', '../Font/google_fonts\\\\Taviraj-BlackItalic.ttf', '../Font/google_fonts\\\\NotoSerifThai_ExtraCondensed-SemiBold.ttf', '../Font/google_fonts\\\\BaiJamjuree-Light.ttf', '../Font/google_fonts\\\\NotoSansThai_Condensed-Bold.ttf', '../Font/google_fonts\\\\Fahkwang-BoldItalic.ttf', '../Font/google_fonts\\\\BaiJamjuree-MediumItalic.ttf', '../Font/google_fonts\\\\NotoSansThai_ExtraCondensed-SemiBold.ttf', '../Font/google_fonts\\\\Maitree-Bold.ttf', '../Font/google_fonts\\\\BaiJamjuree-BoldItalic.ttf', '../Font/google_fonts\\\\K2D-ExtraBold.ttf', '../Font/google_fonts\\\\Niramit-SemiBold.ttf', '../Font/google_fonts\\\\KoHo-Bold.ttf', '../Font/google_fonts\\\\BaiJamjuree-SemiBoldItalic.ttf', '../Font/google_fonts\\\\Sarabun-Bold.ttf', '../Font/google_fonts\\\\Kanit-Italic.ttf', '../Font/google_fonts\\\\Kanit-BlackItalic.ttf', '../Font/google_fonts\\\\NotoSerifThai_ExtraCondensed-Medium.ttf', '../Font/google_fonts\\\\Sarabun-Light.ttf', '../Font/google_fonts\\\\K2D-MediumItalic.ttf', '../Font/google_fonts\\\\Prompt-ExtraLight.ttf', '../Font/google_fonts\\\\NotoSansThai_SemiCondensed-Thin.ttf', '../Font/google_fonts\\\\Krub-ExtraLight.ttf', '../Font/google_fonts\\\\Taviraj-Light.ttf', '../Font/google_fonts\\\\Krub-Italic.ttf', '../Font/google_fonts\\\\Trirong-ExtraLight.ttf', '../Font/google_fonts\\\\Trirong-MediumItalic.ttf', '../Font/google_fonts\\\\NotoSerifThai-Black.ttf', '../Font/google_fonts\\\\NotoSerifThai-ExtraLight.ttf', '../Font/google_fonts\\\\NotoSerifThai_Condensed-Bold.ttf', '../Font/google_fonts\\\\NotoSansThai-Thin.ttf', '../Font/google_fonts\\\\Mali-Medium.ttf', '../Font/google_fonts\\\\Mali-MediumItalic.ttf', '../Font/google_fonts\\\\NotoSansThai_ExtraCondensed-Black.ttf', '../Font/google_fonts\\\\NotoSerifThai_ExtraCondensed-Black.ttf', '../Font/google_fonts\\\\IBMPlexSansThaiLooped-Bold.ttf', '../Font/google_fonts\\\\Kanit-Thin.ttf', '../Font/google_fonts\\\\Kodchasan-Regular.ttf', '../Font/google_fonts\\\\Niramit-ExtraLight.ttf', '../Font/google_fonts\\\\NotoSansThai_Condensed-Black.ttf', '../Font/google_fonts\\\\Mitr-Bold.ttf', '../Font/google_fonts\\\\NotoSerifThai_Condensed-ExtraBold.ttf', '../Font/google_fonts\\\\NotoSerifThai_SemiCondensed-Light.ttf', '../Font/google_fonts\\\\Kodchasan-MediumItalic.ttf', '../Font/google_fonts\\\\NotoSansThai-ExtraBold.ttf', '../Font/google_fonts\\\\NotoSerifThai_ExtraCondensed-Regular.ttf', '../Font/google_fonts\\\\Mitr-Light.ttf', '../Font/google_fonts\\\\Niramit-BoldItalic.ttf', '../Font/google_fonts\\\\NotoSansThai_SemiCondensed-SemiBold.ttf', '../Font/google_fonts\\\\Mali-ExtraLight.ttf', '../Font/google_fonts\\\\NotoSerifThai_SemiCondensed-Regular.ttf', '../Font/google_fonts\\\\NotoSerifThai_SemiCondensed-ExtraLight.ttf', '../Font/google_fonts\\\\K2D-Italic.ttf', '../Font/google_fonts\\\\KoHo-Italic.ttf', '../Font/google_fonts\\\\Mali-SemiBoldItalic.ttf', '../Font/google_fonts\\\\KoHo-Light.ttf', '../Font/google_fonts\\\\Prompt-Thin.ttf', '../Font/google_fonts\\\\Fahkwang-Italic.ttf', '../Font/google_fonts\\\\Trirong-ExtraLightItalic.ttf', '../Font/google_fonts\\\\Trirong-ThinItalic.ttf', '../Font/google_fonts\\\\Kanit-ExtraBoldItalic.ttf', '../Font/google_fonts\\\\BaiJamjuree-ExtraLightItalic.ttf', '../Font/google_fonts\\\\Kanit-Black.ttf', '../Font/google_fonts\\\\Kodchasan-Bold.ttf', '../Font/google_fonts\\\\NotoSerifThai_ExtraCondensed-ExtraBold.ttf', '../Font/google_fonts\\\\Prompt-ExtraBoldItalic.ttf']\n"
     ]
    }
   ],
   "source": [
    "sorted(used_font)\n",
    "print(used_font)"
   ],
   "metadata": {
    "collapsed": false,
    "ExecuteTime": {
     "end_time": "2023-05-11T04:30:47.095175Z",
     "start_time": "2023-05-11T04:30:47.006174900Z"
    }
   }
  },
  {
   "cell_type": "code",
   "execution_count": 30,
   "outputs": [],
   "source": [
    "data_folder = os.path.abspath('../../PimthaiGANS-Dataset/data')"
   ],
   "metadata": {
    "collapsed": false,
    "ExecuteTime": {
     "end_time": "2023-05-11T04:33:44.006144200Z",
     "start_time": "2023-05-11T04:33:43.186632Z"
    }
   }
  },
  {
   "cell_type": "code",
   "execution_count": 45,
   "outputs": [],
   "source": [
    "image_generator = ImageGenerator(font_path=used_font[0], font_size=68, canvas_size=(64,64))"
   ],
   "metadata": {
    "collapsed": false,
    "ExecuteTime": {
     "end_time": "2023-05-11T06:19:02.794212600Z",
     "start_time": "2023-05-11T06:19:02.718214200Z"
    }
   }
  },
  {
   "cell_type": "code",
   "execution_count": 42,
   "outputs": [],
   "source": [
    "text = \"ก\"\n",
    "index = 0\n",
    "image_generator.generate(text, data_folder, index)"
   ],
   "metadata": {
    "collapsed": false,
    "ExecuteTime": {
     "end_time": "2023-05-11T06:16:17.583229600Z",
     "start_time": "2023-05-11T06:16:17.487226800Z"
    }
   }
  },
  {
   "cell_type": "code",
   "execution_count": 47,
   "outputs": [],
   "source": [
    "for index, text in tqdm(enumerate(thai_characters)):\n",
    "    image_generator.generate(text, data_folder, index)"
   ],
   "metadata": {
    "collapsed": false,
    "ExecuteTime": {
     "end_time": "2023-05-11T07:44:46.069994900Z",
     "start_time": "2023-05-11T07:44:43.701008200Z"
    }
   }
  },
  {
   "cell_type": "code",
   "execution_count": null,
   "outputs": [],
   "source": [],
   "metadata": {
    "collapsed": false
   }
  }
 ],
 "metadata": {
  "kernelspec": {
   "display_name": "Python 3",
   "language": "python",
   "name": "python3"
  },
  "language_info": {
   "codemirror_mode": {
    "name": "ipython",
    "version": 2
   },
   "file_extension": ".py",
   "mimetype": "text/x-python",
   "name": "python",
   "nbconvert_exporter": "python",
   "pygments_lexer": "ipython2",
   "version": "2.7.6"
  }
 },
 "nbformat": 4,
 "nbformat_minor": 0
}
